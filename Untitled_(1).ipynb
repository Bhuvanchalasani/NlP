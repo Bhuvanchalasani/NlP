{
  "cells": [
    {
      "cell_type": "markdown",
      "metadata": {
        "id": "view-in-github",
        "colab_type": "text"
      },
      "source": [
        "<a href=\"https://colab.research.google.com/github/Bhuvanchalasani/NlP/blob/main/Untitled_(1).ipynb\" target=\"_parent\"><img src=\"https://colab.research.google.com/assets/colab-badge.svg\" alt=\"Open In Colab\"/></a>"
      ]
    },
    {
      "cell_type": "code",
      "execution_count": null,
      "id": "2d8f3b1d",
      "metadata": {
        "id": "2d8f3b1d"
      },
      "outputs": [],
      "source": [
        "import pandas as pd\n",
        "from textblob import TextBlob\n",
        "import numpy as np\n"
      ]
    },
    {
      "cell_type": "code",
      "execution_count": null,
      "id": "97c8421b",
      "metadata": {
        "id": "97c8421b"
      },
      "outputs": [],
      "source": [
        "csv_path = 'text_data.csv'\n",
        "df = pd.read_csv(csv_path)"
      ]
    },
    {
      "cell_type": "code",
      "execution_count": null,
      "id": "8c2c895d",
      "metadata": {
        "id": "8c2c895d",
        "outputId": "2adfa810-54d0-4b91-bb59-dceb843a2e78"
      },
      "outputs": [
        {
          "data": {
            "text/html": [
              "<div>\n",
              "<style scoped>\n",
              "    .dataframe tbody tr th:only-of-type {\n",
              "        vertical-align: middle;\n",
              "    }\n",
              "\n",
              "    .dataframe tbody tr th {\n",
              "        vertical-align: top;\n",
              "    }\n",
              "\n",
              "    .dataframe thead th {\n",
              "        text-align: right;\n",
              "    }\n",
              "</style>\n",
              "<table border=\"1\" class=\"dataframe\">\n",
              "  <thead>\n",
              "    <tr style=\"text-align: right;\">\n",
              "      <th></th>\n",
              "      <th>textID</th>\n",
              "      <th>selected_text</th>\n",
              "    </tr>\n",
              "  </thead>\n",
              "  <tbody>\n",
              "    <tr>\n",
              "      <th>0</th>\n",
              "      <td>f87dea47db</td>\n",
              "      <td>Last session of the day  http://twitpic.com/67ezh</td>\n",
              "    </tr>\n",
              "    <tr>\n",
              "      <th>1</th>\n",
              "      <td>96d74cb729</td>\n",
              "      <td>exciting</td>\n",
              "    </tr>\n",
              "    <tr>\n",
              "      <th>2</th>\n",
              "      <td>eee518ae67</td>\n",
              "      <td>Recession</td>\n",
              "    </tr>\n",
              "    <tr>\n",
              "      <th>3</th>\n",
              "      <td>01082688c6</td>\n",
              "      <td>happy bday!</td>\n",
              "    </tr>\n",
              "    <tr>\n",
              "      <th>4</th>\n",
              "      <td>33987a8ee5</td>\n",
              "      <td>I like it!!</td>\n",
              "    </tr>\n",
              "  </tbody>\n",
              "</table>\n",
              "</div>"
            ],
            "text/plain": [
              "       textID                                      selected_text\n",
              "0  f87dea47db  Last session of the day  http://twitpic.com/67ezh\n",
              "1  96d74cb729                                           exciting\n",
              "2  eee518ae67                                          Recession\n",
              "3  01082688c6                                        happy bday!\n",
              "4  33987a8ee5                                        I like it!!"
            ]
          },
          "execution_count": 20,
          "metadata": {},
          "output_type": "execute_result"
        }
      ],
      "source": [
        "df.head()"
      ]
    },
    {
      "cell_type": "code",
      "execution_count": null,
      "id": "47605a45",
      "metadata": {
        "id": "47605a45"
      },
      "outputs": [],
      "source": [
        "def get_sentiment_polarity(text):\n",
        "    analysis = TextBlob(text)\n",
        "    return analysis.sentiment.polarity"
      ]
    },
    {
      "cell_type": "code",
      "execution_count": null,
      "id": "b6fd98bd",
      "metadata": {
        "id": "b6fd98bd"
      },
      "outputs": [],
      "source": [
        "df['Polarity'] = df['selected_text'].apply(get_sentiment_polarity)\n"
      ]
    },
    {
      "cell_type": "code",
      "execution_count": null,
      "id": "48edcba7",
      "metadata": {
        "code_folding": [],
        "id": "48edcba7"
      },
      "outputs": [],
      "source": [
        "df['Polarity'] = np.where(df['Polarity'] > 0, 'Positive', np.where(df['Polarity'] < 0, 'Negative', 'Neutral'))"
      ]
    },
    {
      "cell_type": "code",
      "execution_count": null,
      "id": "da49b6c0",
      "metadata": {
        "id": "da49b6c0"
      },
      "outputs": [],
      "source": [
        "output_csv_path = 'sentiment_analysis.csv'\n",
        "df[[ 'selected_text', 'Polarity']].to_csv(output_csv_path, index=False)\n",
        "\n"
      ]
    },
    {
      "cell_type": "code",
      "execution_count": null,
      "id": "687e118a",
      "metadata": {
        "id": "687e118a"
      },
      "outputs": [],
      "source": [
        "csv_path = 'sentiment_analysis.csv'\n",
        "df = pd.read_csv(csv_path)"
      ]
    },
    {
      "cell_type": "code",
      "execution_count": null,
      "id": "80347508",
      "metadata": {
        "id": "80347508",
        "outputId": "69868c6e-2cac-4a77-fb69-3cb2a6377f4e"
      },
      "outputs": [
        {
          "data": {
            "text/html": [
              "<div>\n",
              "<style scoped>\n",
              "    .dataframe tbody tr th:only-of-type {\n",
              "        vertical-align: middle;\n",
              "    }\n",
              "\n",
              "    .dataframe tbody tr th {\n",
              "        vertical-align: top;\n",
              "    }\n",
              "\n",
              "    .dataframe thead th {\n",
              "        text-align: right;\n",
              "    }\n",
              "</style>\n",
              "<table border=\"1\" class=\"dataframe\">\n",
              "  <thead>\n",
              "    <tr style=\"text-align: right;\">\n",
              "      <th></th>\n",
              "      <th>selected_text</th>\n",
              "      <th>Polarity</th>\n",
              "    </tr>\n",
              "  </thead>\n",
              "  <tbody>\n",
              "    <tr>\n",
              "      <th>0</th>\n",
              "      <td>Last session of the day  http://twitpic.com/67ezh</td>\n",
              "      <td>Neutral</td>\n",
              "    </tr>\n",
              "    <tr>\n",
              "      <th>1</th>\n",
              "      <td>exciting</td>\n",
              "      <td>Positive</td>\n",
              "    </tr>\n",
              "    <tr>\n",
              "      <th>2</th>\n",
              "      <td>Recession</td>\n",
              "      <td>Neutral</td>\n",
              "    </tr>\n",
              "    <tr>\n",
              "      <th>3</th>\n",
              "      <td>happy bday!</td>\n",
              "      <td>Positive</td>\n",
              "    </tr>\n",
              "    <tr>\n",
              "      <th>4</th>\n",
              "      <td>I like it!!</td>\n",
              "      <td>Neutral</td>\n",
              "    </tr>\n",
              "  </tbody>\n",
              "</table>\n",
              "</div>"
            ],
            "text/plain": [
              "                                       selected_text  Polarity\n",
              "0  Last session of the day  http://twitpic.com/67ezh   Neutral\n",
              "1                                           exciting  Positive\n",
              "2                                          Recession   Neutral\n",
              "3                                        happy bday!  Positive\n",
              "4                                        I like it!!   Neutral"
            ]
          },
          "execution_count": 17,
          "metadata": {},
          "output_type": "execute_result"
        }
      ],
      "source": [
        "df.head()"
      ]
    },
    {
      "cell_type": "code",
      "execution_count": null,
      "id": "0a31b70c",
      "metadata": {
        "id": "0a31b70c"
      },
      "outputs": [],
      "source": [
        "output_excel_path = 'sentiment_analysis.xlsx'\n",
        "df[[ 'selected_text', 'Polarity']].to_excel(output_excel_path, index=False)"
      ]
    },
    {
      "cell_type": "code",
      "execution_count": null,
      "id": "606ff285",
      "metadata": {
        "id": "606ff285"
      },
      "outputs": [],
      "source": []
    }
  ],
  "metadata": {
    "kernelspec": {
      "display_name": "Python 3 (ipykernel)",
      "language": "python",
      "name": "python3"
    },
    "language_info": {
      "codemirror_mode": {
        "name": "ipython",
        "version": 3
      },
      "file_extension": ".py",
      "mimetype": "text/x-python",
      "name": "python",
      "nbconvert_exporter": "python",
      "pygments_lexer": "ipython3",
      "version": "3.10.12"
    },
    "colab": {
      "provenance": [],
      "include_colab_link": true
    }
  },
  "nbformat": 4,
  "nbformat_minor": 5
}